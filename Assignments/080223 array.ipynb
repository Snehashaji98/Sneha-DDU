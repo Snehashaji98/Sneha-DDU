{
 "cells": [
  {
   "cell_type": "code",
   "execution_count": 1,
   "id": "d204fa33",
   "metadata": {},
   "outputs": [],
   "source": [
    "import numpy as np"
   ]
  },
  {
   "cell_type": "markdown",
   "id": "3ea6e2fb",
   "metadata": {},
   "source": [
    "### 1D array"
   ]
  },
  {
   "cell_type": "code",
   "execution_count": 2,
   "id": "4af1cf29",
   "metadata": {},
   "outputs": [],
   "source": [
    "a=np.array([10,20,30,50,60,0])"
   ]
  },
  {
   "cell_type": "markdown",
   "id": "45a8a4f0",
   "metadata": {},
   "source": [
    "### Attributes of arrays\n",
    "##### dtype\n",
    "##### ndim\n",
    "##### size\n",
    "##### shape"
   ]
  },
  {
   "cell_type": "code",
   "execution_count": 3,
   "id": "24a16240",
   "metadata": {},
   "outputs": [
    {
     "data": {
      "text/plain": [
       "dtype('int32')"
      ]
     },
     "execution_count": 3,
     "metadata": {},
     "output_type": "execute_result"
    }
   ],
   "source": [
    "a.dtype"
   ]
  },
  {
   "cell_type": "code",
   "execution_count": 4,
   "id": "5d7f8c42",
   "metadata": {},
   "outputs": [
    {
     "data": {
      "text/plain": [
       "1"
      ]
     },
     "execution_count": 4,
     "metadata": {},
     "output_type": "execute_result"
    }
   ],
   "source": [
    "a.ndim"
   ]
  },
  {
   "cell_type": "code",
   "execution_count": 5,
   "id": "42d201d5",
   "metadata": {},
   "outputs": [
    {
     "data": {
      "text/plain": [
       "6"
      ]
     },
     "execution_count": 5,
     "metadata": {},
     "output_type": "execute_result"
    }
   ],
   "source": [
    "a.size"
   ]
  },
  {
   "cell_type": "code",
   "execution_count": 6,
   "id": "bc8108c9",
   "metadata": {},
   "outputs": [
    {
     "data": {
      "text/plain": [
       "(6,)"
      ]
     },
     "execution_count": 6,
     "metadata": {},
     "output_type": "execute_result"
    }
   ],
   "source": [
    "a.shape"
   ]
  },
  {
   "cell_type": "code",
   "execution_count": 7,
   "id": "b26b8e0e",
   "metadata": {},
   "outputs": [
    {
     "data": {
      "text/plain": [
       "10"
      ]
     },
     "execution_count": 7,
     "metadata": {},
     "output_type": "execute_result"
    }
   ],
   "source": [
    "a[0]"
   ]
  },
  {
   "cell_type": "code",
   "execution_count": 8,
   "id": "2b3f7e97",
   "metadata": {},
   "outputs": [
    {
     "data": {
      "text/plain": [
       "30"
      ]
     },
     "execution_count": 8,
     "metadata": {},
     "output_type": "execute_result"
    }
   ],
   "source": [
    "a[2]"
   ]
  },
  {
   "cell_type": "markdown",
   "id": "d530f56a",
   "metadata": {},
   "source": [
    "#### Multi dimensional array"
   ]
  },
  {
   "cell_type": "code",
   "execution_count": 9,
   "id": "5150f08f",
   "metadata": {},
   "outputs": [],
   "source": [
    "a_2d=np.array([[10,20,30],[23,55,15]])"
   ]
  },
  {
   "cell_type": "code",
   "execution_count": 10,
   "id": "1261bf99",
   "metadata": {},
   "outputs": [
    {
     "data": {
      "text/plain": [
       "array([[10, 20, 30],\n",
       "       [23, 55, 15]])"
      ]
     },
     "execution_count": 10,
     "metadata": {},
     "output_type": "execute_result"
    }
   ],
   "source": [
    "a_2d"
   ]
  },
  {
   "cell_type": "code",
   "execution_count": 11,
   "id": "f39f33dc",
   "metadata": {},
   "outputs": [
    {
     "data": {
      "text/plain": [
       "dtype('int32')"
      ]
     },
     "execution_count": 11,
     "metadata": {},
     "output_type": "execute_result"
    }
   ],
   "source": [
    "a_2d.dtype"
   ]
  },
  {
   "cell_type": "code",
   "execution_count": 12,
   "id": "fd266ce3",
   "metadata": {},
   "outputs": [
    {
     "data": {
      "text/plain": [
       "(2, 3)"
      ]
     },
     "execution_count": 12,
     "metadata": {},
     "output_type": "execute_result"
    }
   ],
   "source": [
    "a_2d.shape"
   ]
  },
  {
   "cell_type": "code",
   "execution_count": 13,
   "id": "d268a4fe",
   "metadata": {},
   "outputs": [
    {
     "data": {
      "text/plain": [
       "6"
      ]
     },
     "execution_count": 13,
     "metadata": {},
     "output_type": "execute_result"
    }
   ],
   "source": [
    "a_2d.size"
   ]
  },
  {
   "cell_type": "code",
   "execution_count": 14,
   "id": "153bda76",
   "metadata": {},
   "outputs": [
    {
     "data": {
      "text/plain": [
       "2"
      ]
     },
     "execution_count": 14,
     "metadata": {},
     "output_type": "execute_result"
    }
   ],
   "source": [
    "a_2d.ndim"
   ]
  },
  {
   "cell_type": "code",
   "execution_count": 15,
   "id": "2db38a4a",
   "metadata": {},
   "outputs": [
    {
     "data": {
      "text/plain": [
       "array([10, 20, 30])"
      ]
     },
     "execution_count": 15,
     "metadata": {},
     "output_type": "execute_result"
    }
   ],
   "source": [
    "a_2d[0]"
   ]
  },
  {
   "cell_type": "code",
   "execution_count": 16,
   "id": "c839b20b",
   "metadata": {},
   "outputs": [
    {
     "data": {
      "text/plain": [
       "array([23, 55, 15])"
      ]
     },
     "execution_count": 16,
     "metadata": {},
     "output_type": "execute_result"
    }
   ],
   "source": [
    "a_2d[1]"
   ]
  },
  {
   "cell_type": "markdown",
   "id": "b8e41fe9",
   "metadata": {},
   "source": [
    "#### Another type of multi dimensional array"
   ]
  },
  {
   "cell_type": "code",
   "execution_count": 17,
   "id": "21da150e",
   "metadata": {},
   "outputs": [],
   "source": [
    "another_type_array=np.array([[[1,2,3,4]]])"
   ]
  },
  {
   "cell_type": "code",
   "execution_count": 18,
   "id": "73dffeef",
   "metadata": {},
   "outputs": [
    {
     "data": {
      "text/plain": [
       "array([[[1, 2, 3, 4]]])"
      ]
     },
     "execution_count": 18,
     "metadata": {},
     "output_type": "execute_result"
    }
   ],
   "source": [
    "another_type_array"
   ]
  },
  {
   "cell_type": "code",
   "execution_count": 19,
   "id": "8ae38084",
   "metadata": {},
   "outputs": [
    {
     "data": {
      "text/plain": [
       "dtype('int32')"
      ]
     },
     "execution_count": 19,
     "metadata": {},
     "output_type": "execute_result"
    }
   ],
   "source": [
    "another_type_array.dtype"
   ]
  },
  {
   "cell_type": "code",
   "execution_count": 20,
   "id": "072e524a",
   "metadata": {},
   "outputs": [
    {
     "data": {
      "text/plain": [
       "(1, 1, 4)"
      ]
     },
     "execution_count": 20,
     "metadata": {},
     "output_type": "execute_result"
    }
   ],
   "source": [
    "another_type_array.shape"
   ]
  },
  {
   "cell_type": "code",
   "execution_count": 21,
   "id": "0c44d536",
   "metadata": {},
   "outputs": [
    {
     "data": {
      "text/plain": [
       "3"
      ]
     },
     "execution_count": 21,
     "metadata": {},
     "output_type": "execute_result"
    }
   ],
   "source": [
    "another_type_array.ndim"
   ]
  },
  {
   "cell_type": "markdown",
   "id": "448b15ef",
   "metadata": {},
   "source": [
    "#### First element in first array"
   ]
  },
  {
   "cell_type": "code",
   "execution_count": 22,
   "id": "d83ed759",
   "metadata": {},
   "outputs": [
    {
     "data": {
      "text/plain": [
       "array([1, 2, 3, 4])"
      ]
     },
     "execution_count": 22,
     "metadata": {},
     "output_type": "execute_result"
    }
   ],
   "source": [
    "another_type_array[0][0]"
   ]
  },
  {
   "cell_type": "markdown",
   "id": "3c661e43",
   "metadata": {},
   "source": [
    "#### Second element in second array"
   ]
  },
  {
   "cell_type": "code",
   "execution_count": 23,
   "id": "ca343716",
   "metadata": {},
   "outputs": [
    {
     "data": {
      "text/plain": [
       "55"
      ]
     },
     "execution_count": 23,
     "metadata": {},
     "output_type": "execute_result"
    }
   ],
   "source": [
    "a_2d[1][1]"
   ]
  },
  {
   "cell_type": "markdown",
   "id": "2cdc48af",
   "metadata": {},
   "source": [
    "#### Lets change its data type into float"
   ]
  },
  {
   "cell_type": "code",
   "execution_count": 24,
   "id": "bd282367",
   "metadata": {},
   "outputs": [],
   "source": [
    "a_2d=np.array([[10,20,30],[23,55,15]],dtype=float)"
   ]
  },
  {
   "cell_type": "code",
   "execution_count": 25,
   "id": "95e167c4",
   "metadata": {},
   "outputs": [
    {
     "data": {
      "text/plain": [
       "array([[10., 20., 30.],\n",
       "       [23., 55., 15.]])"
      ]
     },
     "execution_count": 25,
     "metadata": {},
     "output_type": "execute_result"
    }
   ],
   "source": [
    "a_2d"
   ]
  },
  {
   "cell_type": "code",
   "execution_count": 26,
   "id": "5b15fb26",
   "metadata": {},
   "outputs": [
    {
     "data": {
      "text/plain": [
       "dtype('float64')"
      ]
     },
     "execution_count": 26,
     "metadata": {},
     "output_type": "execute_result"
    }
   ],
   "source": [
    "a_2d.dtype"
   ]
  },
  {
   "cell_type": "markdown",
   "id": "180cfff1",
   "metadata": {},
   "source": [
    "#### Lets create a bigger array"
   ]
  },
  {
   "cell_type": "code",
   "execution_count": 27,
   "id": "0f67d034",
   "metadata": {},
   "outputs": [],
   "source": [
    "a_bigger=np.array([\n",
    "[\n",
    "[10,20,30,40],[8,8,2,1],[1,1,1,2]\n",
    "],\n",
    "[\n",
    "[9,9,2,39],[1,2,3,3],[0,0,3,2]\n",
    "],\n",
    "[\n",
    "[12,33,22,1],[22,1,22,2],[0,2,3,1]\n",
    "]   \n",
    "],dtype=float)"
   ]
  },
  {
   "cell_type": "code",
   "execution_count": 28,
   "id": "d57810e2",
   "metadata": {},
   "outputs": [
    {
     "data": {
      "text/plain": [
       "array([[[10., 20., 30., 40.],\n",
       "        [ 8.,  8.,  2.,  1.],\n",
       "        [ 1.,  1.,  1.,  2.]],\n",
       "\n",
       "       [[ 9.,  9.,  2., 39.],\n",
       "        [ 1.,  2.,  3.,  3.],\n",
       "        [ 0.,  0.,  3.,  2.]],\n",
       "\n",
       "       [[12., 33., 22.,  1.],\n",
       "        [22.,  1., 22.,  2.],\n",
       "        [ 0.,  2.,  3.,  1.]]])"
      ]
     },
     "execution_count": 28,
     "metadata": {},
     "output_type": "execute_result"
    }
   ],
   "source": [
    "a_bigger"
   ]
  },
  {
   "cell_type": "code",
   "execution_count": 29,
   "id": "d33b25ad",
   "metadata": {},
   "outputs": [
    {
     "data": {
      "text/plain": [
       "(3, 3, 4)"
      ]
     },
     "execution_count": 29,
     "metadata": {},
     "output_type": "execute_result"
    }
   ],
   "source": [
    "a_bigger.shape"
   ]
  },
  {
   "cell_type": "code",
   "execution_count": 30,
   "id": "886dfd90",
   "metadata": {},
   "outputs": [
    {
     "data": {
      "text/plain": [
       "3"
      ]
     },
     "execution_count": 30,
     "metadata": {},
     "output_type": "execute_result"
    }
   ],
   "source": [
    "a_bigger.ndim"
   ]
  },
  {
   "cell_type": "code",
   "execution_count": 31,
   "id": "34b8eb04",
   "metadata": {},
   "outputs": [
    {
     "data": {
      "text/plain": [
       "36"
      ]
     },
     "execution_count": 31,
     "metadata": {},
     "output_type": "execute_result"
    }
   ],
   "source": [
    "a_bigger.size"
   ]
  },
  {
   "cell_type": "code",
   "execution_count": 32,
   "id": "ea130252",
   "metadata": {},
   "outputs": [
    {
     "data": {
      "text/plain": [
       "1.0"
      ]
     },
     "execution_count": 32,
     "metadata": {},
     "output_type": "execute_result"
    }
   ],
   "source": [
    "a_bigger[2][2][3]"
   ]
  },
  {
   "cell_type": "code",
   "execution_count": 33,
   "id": "cacfcc40",
   "metadata": {},
   "outputs": [
    {
     "data": {
      "text/plain": [
       "array([0., 2., 3., 1.])"
      ]
     },
     "execution_count": 33,
     "metadata": {},
     "output_type": "execute_result"
    }
   ],
   "source": [
    "a_bigger[2][2]"
   ]
  },
  {
   "attachments": {
    "image-2.png": {
     "image/png": "[encoded data removed]"
    }
   },
   "cell_type": "markdown",
   "id": "263db350",
   "metadata": {},
   "source": [
    "#### Filling arrays\n",
    "##### np.full\n",
    "![image-2.png](attachment:image-2.png)"
   ]
  },
  {
   "cell_type": "code",
   "execution_count": 34,
   "id": "e745efd2",
   "metadata": {},
   "outputs": [],
   "source": [
    "a_full=np.full((3,5,6),7)"
   ]
  },
  {
   "cell_type": "code",
   "execution_count": 35,
   "id": "36f6402b",
   "metadata": {},
   "outputs": [
    {
     "data": {
      "text/plain": [
       "array([[[7, 7, 7, 7, 7, 7],\n",
       "        [7, 7, 7, 7, 7, 7],\n",
       "        [7, 7, 7, 7, 7, 7],\n",
       "        [7, 7, 7, 7, 7, 7],\n",
       "        [7, 7, 7, 7, 7, 7]],\n",
       "\n",
       "       [[7, 7, 7, 7, 7, 7],\n",
       "        [7, 7, 7, 7, 7, 7],\n",
       "        [7, 7, 7, 7, 7, 7],\n",
       "        [7, 7, 7, 7, 7, 7],\n",
       "        [7, 7, 7, 7, 7, 7]],\n",
       "\n",
       "       [[7, 7, 7, 7, 7, 7],\n",
       "        [7, 7, 7, 7, 7, 7],\n",
       "        [7, 7, 7, 7, 7, 7],\n",
       "        [7, 7, 7, 7, 7, 7],\n",
       "        [7, 7, 7, 7, 7, 7]]])"
      ]
     },
     "execution_count": 35,
     "metadata": {},
     "output_type": "execute_result"
    }
   ],
   "source": [
    "a_full"
   ]
  },
  {
   "cell_type": "code",
   "execution_count": 36,
   "id": "854fec5a",
   "metadata": {},
   "outputs": [
    {
     "data": {
      "text/plain": [
       "dtype('int32')"
      ]
     },
     "execution_count": 36,
     "metadata": {},
     "output_type": "execute_result"
    }
   ],
   "source": [
    "a_full.dtype"
   ]
  },
  {
   "cell_type": "code",
   "execution_count": 37,
   "id": "65255768",
   "metadata": {},
   "outputs": [
    {
     "data": {
      "text/plain": [
       "3"
      ]
     },
     "execution_count": 37,
     "metadata": {},
     "output_type": "execute_result"
    }
   ],
   "source": [
    "a_full.ndim"
   ]
  },
  {
   "cell_type": "code",
   "execution_count": 38,
   "id": "30ffa8fe",
   "metadata": {},
   "outputs": [
    {
     "data": {
      "text/plain": [
       "90"
      ]
     },
     "execution_count": 38,
     "metadata": {},
     "output_type": "execute_result"
    }
   ],
   "source": [
    "a_full.size"
   ]
  },
  {
   "cell_type": "code",
   "execution_count": 39,
   "id": "39377154",
   "metadata": {},
   "outputs": [
    {
     "data": {
      "text/plain": [
       "(3, 5, 6)"
      ]
     },
     "execution_count": 39,
     "metadata": {},
     "output_type": "execute_result"
    }
   ],
   "source": [
    "a_full.shape"
   ]
  },
  {
   "cell_type": "markdown",
   "id": "dc31142b",
   "metadata": {},
   "source": [
    "####  Zeros & Ones"
   ]
  },
  {
   "cell_type": "code",
   "execution_count": 40,
   "id": "96e4c92b",
   "metadata": {},
   "outputs": [],
   "source": [
    "a_zeros=np.zeros((3,3))"
   ]
  },
  {
   "cell_type": "code",
   "execution_count": 41,
   "id": "2c707eaa",
   "metadata": {},
   "outputs": [
    {
     "data": {
      "text/plain": [
       "array([[0., 0., 0.],\n",
       "       [0., 0., 0.],\n",
       "       [0., 0., 0.]])"
      ]
     },
     "execution_count": 41,
     "metadata": {},
     "output_type": "execute_result"
    }
   ],
   "source": [
    "a_zeros"
   ]
  },
  {
   "cell_type": "code",
   "execution_count": 42,
   "id": "440702ca",
   "metadata": {},
   "outputs": [
    {
     "data": {
      "text/plain": [
       "array([[[1., 1., 1., 1.],\n",
       "        [1., 1., 1., 1.],\n",
       "        [1., 1., 1., 1.]],\n",
       "\n",
       "       [[1., 1., 1., 1.],\n",
       "        [1., 1., 1., 1.],\n",
       "        [1., 1., 1., 1.]]])"
      ]
     },
     "execution_count": 42,
     "metadata": {},
     "output_type": "execute_result"
    }
   ],
   "source": [
    "b_ones=np.ones((2,3,4))\n",
    "b_ones"
   ]
  },
  {
   "cell_type": "code",
   "execution_count": 43,
   "id": "afc6d6a4",
   "metadata": {},
   "outputs": [
    {
     "data": {
      "text/plain": [
       "3"
      ]
     },
     "execution_count": 43,
     "metadata": {},
     "output_type": "execute_result"
    }
   ],
   "source": [
    "b_ones.ndim"
   ]
  },
  {
   "attachments": {
    "image.png": {
     "image/png": "[encoded data removed]"
    }
   },
   "cell_type": "markdown",
   "id": "84a405c6",
   "metadata": {},
   "source": [
    "#### Empty & Random\n",
    "![image.png](attachment:image.png)"
   ]
  },
  {
   "cell_type": "code",
   "execution_count": 44,
   "id": "72021ab9",
   "metadata": {},
   "outputs": [
    {
     "data": {
      "text/plain": [
       "array([[4.67296746e-307, 1.69121096e-306, 3.22647253e-307,\n",
       "        8.34441742e-308],\n",
       "       [1.78022342e-306, 6.23058028e-307, 9.79107872e-307,\n",
       "        6.89807188e-307],\n",
       "       [7.56594375e-307, 6.23060065e-307, 1.78021527e-306,\n",
       "        8.34454050e-308],\n",
       "       [1.11261027e-306, 1.15706896e-306, 1.33512173e-306,\n",
       "        1.33504432e-306]])"
      ]
     },
     "execution_count": 44,
     "metadata": {},
     "output_type": "execute_result"
    }
   ],
   "source": [
    "e=np.empty((4,4))\n",
    "e"
   ]
  },
  {
   "cell_type": "code",
   "execution_count": 45,
   "id": "2409c757",
   "metadata": {},
   "outputs": [
    {
     "data": {
      "text/plain": [
       "2"
      ]
     },
     "execution_count": 45,
     "metadata": {},
     "output_type": "execute_result"
    }
   ],
   "source": [
    "e.ndim"
   ]
  },
  {
   "cell_type": "code",
   "execution_count": 46,
   "id": "4b324bac",
   "metadata": {},
   "outputs": [
    {
     "data": {
      "text/plain": [
       "(4, 4)"
      ]
     },
     "execution_count": 46,
     "metadata": {},
     "output_type": "execute_result"
    }
   ],
   "source": [
    "e.shape"
   ]
  },
  {
   "cell_type": "code",
   "execution_count": 47,
   "id": "fccca596",
   "metadata": {},
   "outputs": [
    {
     "data": {
      "text/plain": [
       "16"
      ]
     },
     "execution_count": 47,
     "metadata": {},
     "output_type": "execute_result"
    }
   ],
   "source": [
    "e.size"
   ]
  },
  {
   "cell_type": "code",
   "execution_count": 48,
   "id": "bdf47f3f",
   "metadata": {},
   "outputs": [
    {
     "data": {
      "text/plain": [
       "dtype('float64')"
      ]
     },
     "execution_count": 48,
     "metadata": {},
     "output_type": "execute_result"
    }
   ],
   "source": [
    "e.dtype"
   ]
  },
  {
   "cell_type": "code",
   "execution_count": 49,
   "id": "38f29f2f",
   "metadata": {},
   "outputs": [
    {
     "data": {
      "text/plain": [
       "array([[0.21229941, 0.26281905],\n",
       "       [0.7448717 , 0.12163725]])"
      ]
     },
     "execution_count": 49,
     "metadata": {},
     "output_type": "execute_result"
    }
   ],
   "source": [
    "b_random=np.random.random((2,2))\n",
    "b_random"
   ]
  },
  {
   "cell_type": "code",
   "execution_count": 50,
   "id": "0ef44bef",
   "metadata": {},
   "outputs": [
    {
     "data": {
      "text/plain": [
       "2"
      ]
     },
     "execution_count": 50,
     "metadata": {},
     "output_type": "execute_result"
    }
   ],
   "source": [
    "b_random.ndim"
   ]
  },
  {
   "cell_type": "code",
   "execution_count": 51,
   "id": "b241fefd",
   "metadata": {},
   "outputs": [
    {
     "data": {
      "text/plain": [
       "4"
      ]
     },
     "execution_count": 51,
     "metadata": {},
     "output_type": "execute_result"
    }
   ],
   "source": [
    "b_random.size"
   ]
  },
  {
   "cell_type": "code",
   "execution_count": 52,
   "id": "560bba99",
   "metadata": {},
   "outputs": [
    {
     "data": {
      "text/plain": [
       "dtype('float64')"
      ]
     },
     "execution_count": 52,
     "metadata": {},
     "output_type": "execute_result"
    }
   ],
   "source": [
    "b_random.dtype"
   ]
  },
  {
   "cell_type": "code",
   "execution_count": 53,
   "id": "0a34a47b",
   "metadata": {},
   "outputs": [
    {
     "data": {
      "text/plain": [
       "(2, 2)"
      ]
     },
     "execution_count": 53,
     "metadata": {},
     "output_type": "execute_result"
    }
   ],
   "source": [
    "b_random.shape"
   ]
  },
  {
   "attachments": {
    "image-2.png": {
     "image/png": "[encoded data removed]"
    },
    "image.png": {
     "image/png": "[encoded data removed]"
    }
   },
   "cell_type": "markdown",
   "id": "c5031cfa",
   "metadata": {},
   "source": [
    "#### Range\n",
    "\n",
    "![image.png](attachment:image.png)\n",
    "![image-2.png](attachment:image-2.png)"
   ]
  },
  {
   "cell_type": "code",
   "execution_count": 54,
   "id": "f43d2b49",
   "metadata": {},
   "outputs": [],
   "source": [
    "a_arange=np.arange(10,50,5)"
   ]
  },
  {
   "cell_type": "code",
   "execution_count": 55,
   "id": "b614ec8e",
   "metadata": {},
   "outputs": [
    {
     "data": {
      "text/plain": [
       "array([10, 15, 20, 25, 30, 35, 40, 45])"
      ]
     },
     "execution_count": 55,
     "metadata": {},
     "output_type": "execute_result"
    }
   ],
   "source": [
    "a_arange"
   ]
  },
  {
   "cell_type": "code",
   "execution_count": 56,
   "id": "39c4539c",
   "metadata": {},
   "outputs": [],
   "source": [
    "b_arange=np.arange(0,55,5)"
   ]
  },
  {
   "cell_type": "code",
   "execution_count": 57,
   "id": "e49c8120",
   "metadata": {},
   "outputs": [
    {
     "data": {
      "text/plain": [
       "array([ 0,  5, 10, 15, 20, 25, 30, 35, 40, 45, 50])"
      ]
     },
     "execution_count": 57,
     "metadata": {},
     "output_type": "execute_result"
    }
   ],
   "source": [
    "b_arange"
   ]
  },
  {
   "attachments": {
    "image.png": {
     "image/png": "[encoded data removed]"
    }
   },
   "cell_type": "markdown",
   "id": "fd52e7a1",
   "metadata": {},
   "source": [
    "### Iinspace\n",
    "![image.png](attachment:image.png)"
   ]
  },
  {
   "cell_type": "code",
   "execution_count": 58,
   "id": "9b7e4f0f",
   "metadata": {},
   "outputs": [
    {
     "data": {
      "text/plain": [
       "array([ 0., 50.])"
      ]
     },
     "execution_count": 58,
     "metadata": {},
     "output_type": "execute_result"
    }
   ],
   "source": [
    "b_linspace=np.linspace(0,50,2)\n",
    "b_linspace"
   ]
  },
  {
   "cell_type": "code",
   "execution_count": 59,
   "id": "11166e8d",
   "metadata": {},
   "outputs": [
    {
     "data": {
      "text/plain": [
       "1"
      ]
     },
     "execution_count": 59,
     "metadata": {},
     "output_type": "execute_result"
    }
   ],
   "source": [
    "b_linspace.ndim"
   ]
  },
  {
   "cell_type": "code",
   "execution_count": 60,
   "id": "0fa446fe",
   "metadata": {},
   "outputs": [
    {
     "data": {
      "text/plain": [
       "2"
      ]
     },
     "execution_count": 60,
     "metadata": {},
     "output_type": "execute_result"
    }
   ],
   "source": [
    "b_linspace.size"
   ]
  },
  {
   "cell_type": "code",
   "execution_count": 61,
   "id": "f34f6eb0",
   "metadata": {},
   "outputs": [],
   "source": [
    "b_linspace1=np.linspace(0,50,30)"
   ]
  },
  {
   "cell_type": "code",
   "execution_count": 62,
   "id": "8e9cbe91",
   "metadata": {},
   "outputs": [
    {
     "data": {
      "text/plain": [
       "array([ 0.        ,  1.72413793,  3.44827586,  5.17241379,  6.89655172,\n",
       "        8.62068966, 10.34482759, 12.06896552, 13.79310345, 15.51724138,\n",
       "       17.24137931, 18.96551724, 20.68965517, 22.4137931 , 24.13793103,\n",
       "       25.86206897, 27.5862069 , 29.31034483, 31.03448276, 32.75862069,\n",
       "       34.48275862, 36.20689655, 37.93103448, 39.65517241, 41.37931034,\n",
       "       43.10344828, 44.82758621, 46.55172414, 48.27586207, 50.        ])"
      ]
     },
     "execution_count": 62,
     "metadata": {},
     "output_type": "execute_result"
    }
   ],
   "source": [
    "b_linspace1"
   ]
  },
  {
   "cell_type": "code",
   "execution_count": 63,
   "id": "b22cb8d5",
   "metadata": {},
   "outputs": [
    {
     "data": {
      "text/plain": [
       "30"
      ]
     },
     "execution_count": 63,
     "metadata": {},
     "output_type": "execute_result"
    }
   ],
   "source": [
    "b_linspace1.size"
   ]
  },
  {
   "cell_type": "code",
   "execution_count": 64,
   "id": "b2c6d197",
   "metadata": {},
   "outputs": [
    {
     "data": {
      "text/plain": [
       "array([ 0,  2,  4,  6,  8, 10, 12, 14, 16, 18, 20, 22, 25, 27, 29, 31, 33,\n",
       "       35, 37, 39, 41, 43, 45, 47, 50])"
      ]
     },
     "execution_count": 64,
     "metadata": {},
     "output_type": "execute_result"
    }
   ],
   "source": [
    "b_linspace2=np.linspace(0,50,25,dtype=int)\n",
    "b_linspace2"
   ]
  },
  {
   "cell_type": "markdown",
   "id": "8db7d5aa",
   "metadata": {},
   "source": [
    "### Math Functions"
   ]
  },
  {
   "cell_type": "code",
   "execution_count": 65,
   "id": "1803efd4",
   "metadata": {},
   "outputs": [
    {
     "data": {
      "text/plain": [
       "array([2.20264658e+04, 4.85165195e+08, 1.06864746e+13, 5.18470553e+21,\n",
       "       1.14200739e+26, 1.00000000e+00])"
      ]
     },
     "execution_count": 65,
     "metadata": {},
     "output_type": "execute_result"
    }
   ],
   "source": [
    "#Takes e to the power of each value\n",
    "np.exp(a)"
   ]
  },
  {
   "cell_type": "code",
   "execution_count": 66,
   "id": "8f3ab8b1",
   "metadata": {},
   "outputs": [
    {
     "data": {
      "text/plain": [
       "array([-0.54402111,  0.91294525, -0.98803162, -0.26237485, -0.30481062,\n",
       "        0.        ])"
      ]
     },
     "execution_count": 66,
     "metadata": {},
     "output_type": "execute_result"
    }
   ],
   "source": [
    "#Return the sine of each value\n",
    "np.sin(a)"
   ]
  },
  {
   "cell_type": "code",
   "execution_count": 67,
   "id": "b13835b5",
   "metadata": {},
   "outputs": [
    {
     "data": {
      "text/plain": [
       "array([-0.83907153,  0.40808206,  0.15425145,  0.96496603, -0.95241298,\n",
       "        1.        ])"
      ]
     },
     "execution_count": 67,
     "metadata": {},
     "output_type": "execute_result"
    }
   ],
   "source": [
    "#Return the cosine of each value\n",
    "np.cos(a)"
   ]
  },
  {
   "cell_type": "code",
   "execution_count": 68,
   "id": "c5754b47",
   "metadata": {},
   "outputs": [
    {
     "data": {
      "text/plain": [
       "array([ 0.64836083,  2.23716094, -6.4053312 , -0.27190061,  0.32004039,\n",
       "        0.        ])"
      ]
     },
     "execution_count": 68,
     "metadata": {},
     "output_type": "execute_result"
    }
   ],
   "source": [
    "#Return the tangent of each value\n",
    "np.tan(a)"
   ]
  },
  {
   "cell_type": "code",
   "execution_count": 69,
   "id": "a8986ebe",
   "metadata": {},
   "outputs": [
    {
     "name": "stderr",
     "output_type": "stream",
     "text": [
      "C:\\Users\\ADMIN\\AppData\\Local\\Temp\\ipykernel_7384\\3096445315.py:2: RuntimeWarning: divide by zero encountered in log\n",
      "  np.log(a)\n"
     ]
    },
    {
     "data": {
      "text/plain": [
       "array([2.30258509, 2.99573227, 3.40119738, 3.91202301, 4.09434456,\n",
       "             -inf])"
      ]
     },
     "execution_count": 69,
     "metadata": {},
     "output_type": "execute_result"
    }
   ],
   "source": [
    "#Return the logaritham of each value\n",
    "np.log(a)"
   ]
  },
  {
   "cell_type": "code",
   "execution_count": 70,
   "id": "c91f0102",
   "metadata": {},
   "outputs": [
    {
     "data": {
      "text/plain": [
       "array([3.16227766, 4.47213595, 5.47722558, 7.07106781, 7.74596669,\n",
       "       0.        ])"
      ]
     },
     "execution_count": 70,
     "metadata": {},
     "output_type": "execute_result"
    }
   ],
   "source": [
    "#Return the square root of each value\n",
    "np.sqrt(a)"
   ]
  },
  {
   "cell_type": "markdown",
   "id": "484d1282",
   "metadata": {},
   "source": [
    "### Aggregate Functions"
   ]
  },
  {
   "cell_type": "code",
   "execution_count": 71,
   "id": "08262fe9",
   "metadata": {},
   "outputs": [
    {
     "data": {
      "text/plain": [
       "170"
      ]
     },
     "execution_count": 71,
     "metadata": {},
     "output_type": "execute_result"
    }
   ],
   "source": [
    "#Return the sum of all values in the array\n",
    "a.sum()"
   ]
  },
  {
   "cell_type": "code",
   "execution_count": 72,
   "id": "35d5fd00",
   "metadata": {},
   "outputs": [
    {
     "data": {
      "text/plain": [
       "0"
      ]
     },
     "execution_count": 72,
     "metadata": {},
     "output_type": "execute_result"
    }
   ],
   "source": [
    "#Return the lowest values of the array\n",
    "a.min()"
   ]
  },
  {
   "cell_type": "code",
   "execution_count": 73,
   "id": "f137c021",
   "metadata": {},
   "outputs": [
    {
     "data": {
      "text/plain": [
       "60"
      ]
     },
     "execution_count": 73,
     "metadata": {},
     "output_type": "execute_result"
    }
   ],
   "source": [
    "#Return the max values of the array\n",
    "a.max()"
   ]
  },
  {
   "cell_type": "code",
   "execution_count": 74,
   "id": "912f88bb",
   "metadata": {},
   "outputs": [
    {
     "data": {
      "text/plain": [
       "28.333333333333332"
      ]
     },
     "execution_count": 74,
     "metadata": {},
     "output_type": "execute_result"
    }
   ],
   "source": [
    "#Return the mean of all values in the array\n",
    "a.mean()"
   ]
  },
  {
   "cell_type": "code",
   "execution_count": 75,
   "id": "1b222d4e",
   "metadata": {},
   "outputs": [
    {
     "data": {
      "text/plain": [
       "25.0"
      ]
     },
     "execution_count": 75,
     "metadata": {},
     "output_type": "execute_result"
    }
   ],
   "source": [
    "#Return the median values of the array\n",
    "np.median(a)"
   ]
  },
  {
   "cell_type": "code",
   "execution_count": 76,
   "id": "7bc0919f",
   "metadata": {},
   "outputs": [
    {
     "data": {
      "text/plain": [
       "21.147629234082533"
      ]
     },
     "execution_count": 76,
     "metadata": {},
     "output_type": "execute_result"
    }
   ],
   "source": [
    "#Return the SD of the values in the array\n",
    "np.std(a)"
   ]
  },
  {
   "cell_type": "code",
   "execution_count": null,
   "id": "00d1076e",
   "metadata": {},
   "outputs": [],
   "source": []
  }
 ],
 "metadata": {
  "kernelspec": {
   "display_name": "Python 3 (ipykernel)",
   "language": "python",
   "name": "python3"
  },
  "language_info": {
   "codemirror_mode": {
    "name": "ipython",
    "version": 3
   },
   "file_extension": ".py",
   "mimetype": "text/x-python",
   "name": "python",
   "nbconvert_exporter": "python",
   "pygments_lexer": "ipython3",
   "version": "3.9.13"
  }
 },
 "nbformat": 4,
 "nbformat_minor": 5
}

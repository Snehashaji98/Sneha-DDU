{
 "cells": [
  {
   "cell_type": "code",
   "execution_count": 13,
   "id": "0954b67e",
   "metadata": {},
   "outputs": [],
   "source": [
    "import pandas as pd\n",
    "import numpy as np\n",
    "import warnings\n",
    "warnings.filterwarnings('ignore')"
   ]
  },
  {
   "cell_type": "code",
   "execution_count": 20,
   "id": "cd664799",
   "metadata": {},
   "outputs": [],
   "source": [
    "twopowers_sr=pd.Series([1,2,4,8,16,32,64,128,256,512,1024])"
   ]
  },
  {
   "cell_type": "code",
   "execution_count": 21,
   "id": "60941969",
   "metadata": {},
   "outputs": [],
   "source": [
    "BM=[False,False,False,True,False,False,False,True,True,True,True]"
   ]
  },
  {
   "cell_type": "code",
   "execution_count": 23,
   "id": "d274da1e",
   "metadata": {},
   "outputs": [
    {
     "data": {
      "text/plain": [
       "3        8\n",
       "7      128\n",
       "8      256\n",
       "9      512\n",
       "10    1024\n",
       "dtype: int64"
      ]
     },
     "execution_count": 23,
     "metadata": {},
     "output_type": "execute_result"
    }
   ],
   "source": [
    "twopowers_sr[BM]"
   ]
  },
  {
   "cell_type": "code",
   "execution_count": null,
   "id": "2f8bc9bb",
   "metadata": {},
   "outputs": [],
   "source": []
  }
 ],
 "metadata": {
  "kernelspec": {
   "display_name": "Python 3 (ipykernel)",
   "language": "python",
   "name": "python3"
  },
  "language_info": {
   "codemirror_mode": {
    "name": "ipython",
    "version": 3
   },
   "file_extension": ".py",
   "mimetype": "text/x-python",
   "name": "python",
   "nbconvert_exporter": "python",
   "pygments_lexer": "ipython3",
   "version": "3.9.13"
  }
 },
 "nbformat": 4,
 "nbformat_minor": 5
}
